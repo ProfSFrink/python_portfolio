{
 "cells": [
  {
   "cell_type": "markdown",
   "id": "df9a219d",
   "metadata": {},
   "source": [
    "# Milestone Project Walkthrough Notebook Excercises"
   ]
  },
  {
   "cell_type": "markdown",
   "id": "3d15d999",
   "metadata": {},
   "source": [
    "**Step 1: Write a function that can print out a board. Set up your board as a list, where each index 1-9 corresponds with a number on a number pad, so you get a 3 by 3 board representation.**"
   ]
  },
  {
   "cell_type": "code",
   "execution_count": 1,
   "id": "5e08c9c7",
   "metadata": {},
   "outputs": [],
   "source": [
    "test_board = ['#',' ',' ',' ',' ',' ',' ',' ',' ',' ']"
   ]
  },
  {
   "cell_type": "code",
   "execution_count": 2,
   "id": "c0014208",
   "metadata": {},
   "outputs": [],
   "source": [
    "from IPython.display import clear_output\n",
    "\n",
    "def display_board(board):\n",
    "    \n",
    "    # This function displays the board\n",
    "    \n",
    "    clear_output()\n",
    "    \n",
    "    print(board[7]+'|'+board[8]+'|'+board[9])\n",
    "    print('-|-|-')\n",
    "    print(board[4]+'|'+board[5]+'|'+board[6])\n",
    "    print('-|-|-')\n",
    "    print(board[1]+'|'+board[2]+'|'+board[3])"
   ]
  },
  {
   "cell_type": "markdown",
   "id": "ef83bc8c",
   "metadata": {},
   "source": [
    "**Step 2: Write a function that can take in a player input and assign their marker as 'X' or 'O'. Think about using *while* loops to continually ask until you get a correct answer.**"
   ]
  },
  {
   "cell_type": "code",
   "execution_count": 3,
   "id": "aa5c1c39",
   "metadata": {},
   "outputs": [],
   "source": [
    "def player_input():\n",
    "    marker = 'Invalid'\n",
    "\n",
    "    while marker not in ['X','O']:\n",
    "        marker = input('Player 1: Do want to be X or O: ').upper()\n",
    "        print('\\n')\n",
    "    \n",
    "        if marker not in ['X','O']:\n",
    "            print('Invalid Choice, Please enter again')\n",
    "        \n",
    "    player1 = marker.upper()\n",
    "    if player1 == 'X':\n",
    "        player2 = 'O'\n",
    "    else:\n",
    "        player2 = 'X'\n",
    "         \n",
    "    return (player1,player2)"
   ]
  },
  {
   "cell_type": "markdown",
   "id": "575dc2d7",
   "metadata": {},
   "source": [
    "**Step 3: Write a function that takes in the board list object, a marker ('X' or 'O'), and a desired position (number 1-9) and assigns it to the board.**"
   ]
  },
  {
   "cell_type": "code",
   "execution_count": 4,
   "id": "e1e0eb05",
   "metadata": {},
   "outputs": [],
   "source": [
    "def place_marker(board, marker, position):\n",
    "    # This function places a player marker on the board\n",
    "    \n",
    "    board[position]=marker"
   ]
  },
  {
   "cell_type": "markdown",
   "id": "34eeb118",
   "metadata": {},
   "source": [
    "#### Step 4: Write a function that takes in a board and a mark (X or O) and then checks to see if that mark has won. **"
   ]
  },
  {
   "cell_type": "markdown",
   "id": "8ed80f78",
   "metadata": {},
   "source": [
    "## My Solution"
   ]
  },
  {
   "cell_type": "code",
   "execution_count": 5,
   "id": "96488078",
   "metadata": {},
   "outputs": [],
   "source": [
    "def win_check(board, mark):\n",
    "    \n",
    "    # This board checks to see if some one has won\n",
    "    \n",
    "    # HORIZONTAL WINS\n",
    "    \n",
    "    # Check for a win across horizontol positions (1,2,3)\n",
    "    if board[1] == mark and board[2] == mark and board[3] == mark:\n",
    "        display_board(board)\n",
    "        print('You Win 123')\n",
    "        return True\n",
    "        \n",
    "    # Check for a win across horizontol positions (4,5,6)\n",
    "    elif board[4] == mark and board[5] == mark and board[6] == mark:\n",
    "        display_board(board)\n",
    "        print('You Win 456')\n",
    "        return True\n",
    "        \n",
    "    # Check for a win across horizontol positions (7,8,9)\n",
    "    elif board[7] == mark and board[8] == mark and board[9] == mark:\n",
    "        display_board(board)\n",
    "        print('You Win 789')\n",
    "        return True\n",
    "        \n",
    "    # VERTICAL WINS\n",
    "    \n",
    "    # Check for a win across horizontol positions (1,4,7)\n",
    "    if board[1] == mark and board[4] == mark and board[7] == mark:\n",
    "        display_board(board)\n",
    "        print('You Win 147')\n",
    "        return True\n",
    "        \n",
    "    # Check for a win across horizontol positions (2,5,8)\n",
    "    elif board[2] == mark and board[5] == mark and board[8] == mark:\n",
    "        display_board(board)\n",
    "        print('You Win 258')\n",
    "        return True\n",
    "        \n",
    "    # Check for a win across horizontol positions (3,6,9)\n",
    "    elif board[3] == mark and board[6] == mark and board[9] == mark:\n",
    "        display_board(board)\n",
    "        print('You Win 369')\n",
    "        return True\n",
    "        \n",
    "    # DIAGONAL WINS\n",
    "    \n",
    "    # Check for a win across horizontol positions (1,5,9)\n",
    "    if board[1] == mark and board[5] == mark and board[9] == mark:\n",
    "        display_board(board)\n",
    "        print('You Win 149')\n",
    "        return True\n",
    "        \n",
    "    # Check for a win across horizontol positions (3,5,7)\n",
    "    elif board[3] == mark and board[5] == mark and board[7] == mark:\n",
    "        display_board(board)\n",
    "        print('You Win 357')\n",
    "        return True\n",
    "    \n",
    "    # If no one has won we return false\n",
    "    else:\n",
    "        return False"
   ]
  },
  {
   "cell_type": "markdown",
   "id": "e2949fe4",
   "metadata": {},
   "source": [
    "## Course Solution"
   ]
  },
  {
   "cell_type": "code",
   "execution_count": null,
   "id": "7c797bc1",
   "metadata": {},
   "outputs": [],
   "source": [
    "def win_check(board,mark):\n",
    "    \n",
    "    return ((board[7] == mark and board[8] == mark and board[9] == mark) or # across the top\n",
    "    (board[4] == mark and board[5] == mark and board[6] == mark) or # across the middle\n",
    "    (board[1] == mark and board[2] == mark and board[3] == mark) or # across the bottom\n",
    "    (board[7] == mark and board[4] == mark and board[1] == mark) or # down the middle\n",
    "    (board[8] == mark and board[5] == mark and board[2] == mark) or # down the middle\n",
    "    (board[9] == mark and board[6] == mark and board[3] == mark) or # down the right side\n",
    "    (board[7] == mark and board[5] == mark and board[3] == mark) or # diagonal\n",
    "    (board[9] == mark and board[5] == mark and board[1] == mark)) # diagonal"
   ]
  },
  {
   "cell_type": "markdown",
   "id": "0b77c4ad",
   "metadata": {},
   "source": [
    "**Step 5: Write a function that uses the random module to randomly decide which player goes first. You may want to lookup random.randint() Return a string of which player went first.**"
   ]
  },
  {
   "cell_type": "code",
   "execution_count": 6,
   "id": "a91e51bf",
   "metadata": {},
   "outputs": [],
   "source": [
    "import random\n",
    "\n",
    "def choose_first():\n",
    "    # This function randomly decides who goes first\n",
    "\n",
    "    goes_first =  random.randint(1,2) # We generate a random number either 1 or 2\n",
    "    \n",
    "    if goes_first == 1: # If we get a 1 player one goes first else player two goes first\n",
    "        return ('Player 1 goes first',goes_first)\n",
    "    elif goes_first == 2:\n",
    "        return ('Player 2 goes first',goes_first)"
   ]
  },
  {
   "cell_type": "markdown",
   "id": "294d8b42",
   "metadata": {},
   "source": [
    "**Step 6: Write a function that returns a boolean indicating whether a space on the board is freely available.**"
   ]
  },
  {
   "cell_type": "code",
   "execution_count": 7,
   "id": "0e3e6cf9",
   "metadata": {},
   "outputs": [],
   "source": [
    "def space_check(board, position):\n",
    "    # This function check if a space on the board is empty\n",
    "    \n",
    "    return board[position]==' ': # If it is we return true else we return false"
   ]
  },
  {
   "cell_type": "markdown",
   "id": "aaf0e070",
   "metadata": {},
   "source": [
    "**Step 7: Write a function that checks if the board is full and returns a boolean value. True if full, False otherwise.**"
   ]
  },
  {
   "cell_type": "code",
   "execution_count": 8,
   "id": "c2097e82",
   "metadata": {},
   "outputs": [],
   "source": [
    "def full_board_check(board):\n",
    "    # This function check if every space in the board is full or not\n",
    "    \n",
    "    full_spaces = 0 # We assume every space is empty \n",
    "    \n",
    "    for num in range(len(board)): # We iterate through the board\n",
    "        if board[num] != ' ': # We check if the space is empty\n",
    "            full_spaces += 1 # If not we count it as full\n",
    "    if full_spaces == 10: # If we have 10 full spaces we know that the board is full\n",
    "        return True # and return that the board is full\n",
    "    else:\n",
    "        return False # If we have less than 10 space we know the board still has spaces"
   ]
  },
  {
   "cell_type": "markdown",
   "id": "54e697ef",
   "metadata": {},
   "source": [
    "**Step 8: Write a function that asks for a player's next position (as a number 1-9) and then uses the function from step 6 to check if it's a free position. If it is, then return the position for later use.**"
   ]
  },
  {
   "cell_type": "code",
   "execution_count": 9,
   "id": "45d92855",
   "metadata": {},
   "outputs": [],
   "source": [
    "def player_choice(board):\n",
    "    # This function ask the player where they wish to place there marker\n",
    "    valid_pick = False\n",
    "    board_pos = 0\n",
    "    \n",
    "    while board_pos not in [1,2,3,4,5,6,7,8,9]: # We keep looping until they enter a valid position\n",
    "        board_pos = int(input(\"Which position would you like to place your marker? \")) # Ask the player for there position\n",
    "        if board_pos not in [1,2,3,4,5,6,7,8,9]:\n",
    "            print(\"Invalid Choice, Please Try Again!\")\n",
    "    \n",
    "    if space_check(board,board_pos) == True: # We check the board position is empty\n",
    "        valid_pick = True # If it's empty then we have a valid pick\n",
    "    else:\n",
    "        print('Position {} is not available, Pick another'.format(board_pos)) # If it's not free we return that \n",
    "        valid_pick = False                                                    # it isn't\n",
    "        \n",
    "    return board_pos,valid_pick # If it's free we return that it is"
   ]
  },
  {
   "cell_type": "markdown",
   "id": "2682ad7a",
   "metadata": {},
   "source": [
    "**Step 9: Write a function that asks the player if they want to play again and returns a boolean True if they do want to play again.**"
   ]
  },
  {
   "cell_type": "code",
   "execution_count": 10,
   "id": "4c4182bd",
   "metadata": {},
   "outputs": [],
   "source": [
    "def replay():\n",
    "    # This function ask the player if they wish to play again\n",
    "    \n",
    "    choice = ' '\n",
    "    \n",
    "    while choice not in ['Y','N']:  # We keep asking until they enter 'Y' or 'N'\n",
    "        choice=input(\"Do you want to play again? \")\n",
    "        choice = choice.upper() # We uppercase the input\n",
    "        \n",
    "        if choice not in ['Y','N']: # If they do not enter 'Y'or 'N' we ask again\n",
    "            print('Invalid Choice, Please enter again')\n",
    "            \n",
    "    if choice == 'Y': # If they choice is yes then return true else return false\n",
    "        return True\n",
    "    else:\n",
    "        return False"
   ]
  },
  {
   "cell_type": "markdown",
   "id": "baed402e",
   "metadata": {},
   "source": [
    "**Step 10: Here comes the hard part! Use while loops and the functions you've made to run the game!**"
   ]
  },
  {
   "cell_type": "code",
   "execution_count": 11,
   "id": "d42178a6",
   "metadata": {},
   "outputs": [
    {
     "name": "stdout",
     "output_type": "stream",
     "text": [
      "X|O| \n",
      "-|-|-\n",
      " |X| \n",
      "-|-|-\n",
      "O|O|X\n",
      "You Win 357\n",
      "Winner\n",
      "\n",
      "\n",
      "Do you want to play again? n\n"
     ]
    }
   ],
   "source": [
    "print('Welcome to Tic Tac Toe!')\n",
    "print('\\n')\n",
    "\n",
    "play_again = True\n",
    "\n",
    "while play_again == True: # As long as keep playing is true we keep going\n",
    "    \n",
    "    current_turn = 0\n",
    "    valid_pick = False\n",
    "    game_over = False\n",
    "    \n",
    "    board = ['#',' ',' ',' ',' ',' ',' ',' ',' ',' '] # We reset the board\n",
    "    \n",
    "    # We get the players to pick there markers and tell them who is who\n",
    "    player1_marker, player2_marker = player_input()\n",
    "    print(\"Player 1 is {}\".format(player1_marker))\n",
    "    print('\\n')\n",
    "    print(\"Player 2 is {}\".format(player2_marker))\n",
    "    print('\\n')\n",
    "    \n",
    "    # We determine who goes first\n",
    "    goes_first, current_turn = choose_first()\n",
    "    print(goes_first)\n",
    "    \n",
    "    # We start the game\n",
    "    while game_over == False: # We keep going until someone wins or it's a draw\n",
    "        \n",
    "        #Player One Turn\n",
    "        if game_over == False: # We only allow a move if someone has not won or it is a draw\n",
    "            display_board(board)\n",
    "            if current_turn == 1: # If it is player 1 turn\n",
    "                pos, valid_pick=player_choice(board) # We ask player one to pick there position\n",
    "                place_marker(board,player1_marker,pos) # We place the marker\n",
    "                display_board(board) # We display the updated board\n",
    "            \n",
    "                if win_check(board,player1_marker) == True: # We check after the move if they have won\n",
    "                    game_over = True # The game has been won and the loop ends\n",
    "                    print('Player 1 is the Winner')\n",
    "                    print('\\n')\n",
    "                if full_board_check(board) == True: # We check after the move if there is a draw\n",
    "                    game_over = True # The game was a draw\n",
    "                    print('The Game is a Draw')\n",
    "                    print('\\n')\n",
    "                \n",
    "                current_turn = 2 # We move to player 2's turn if there is no win or draw\n",
    "        else:\n",
    "            pass\n",
    "            \n",
    "         #Player Two Turn\n",
    "        if game_over == False: # We only allow a move if someone has not won or it is a draw\n",
    "        \n",
    "            if current_turn == 2: # If it is player 2 turn\n",
    "                pos, valid_pick=player_choice(board) # We ask player one to pick there position\n",
    "                place_marker(board,player2_marker,pos) # We place the marker\n",
    "                display_board(board) # We display the updated board\n",
    "            \n",
    "            if win_check(board,player2_marker) == True: # We check after the move if they have won\n",
    "                game_over = True # The game has been won and the loop ends\n",
    "                print('Player 2 is the Winner')\n",
    "                print('\\n')\n",
    "            if full_board_check(board) == True: # We check after the move if there is a draw\n",
    "                game_over = True # The game was a draw\n",
    "                print('The Game is a Draw')\n",
    "                print('\\n')\n",
    "            \n",
    "            current_turn = 1 # We move to player 1's turn\n",
    "        \n",
    "        else:\n",
    "            pass\n",
    "    \n",
    "    play_again=replay() # We ask the player if they want to play again"
   ]
  },
  {
   "cell_type": "code",
   "execution_count": null,
   "id": "8548c27e",
   "metadata": {},
   "outputs": [],
   "source": []
  }
 ],
 "metadata": {
  "kernelspec": {
   "display_name": "Python 3 (ipykernel)",
   "language": "python",
   "name": "python3"
  },
  "language_info": {
   "codemirror_mode": {
    "name": "ipython",
    "version": 3
   },
   "file_extension": ".py",
   "mimetype": "text/x-python",
   "name": "python",
   "nbconvert_exporter": "python",
   "pygments_lexer": "ipython3",
   "version": "3.9.12"
  }
 },
 "nbformat": 4,
 "nbformat_minor": 5
}
